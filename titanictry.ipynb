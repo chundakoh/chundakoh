{
 "cells": [
  {
   "cell_type": "code",
   "execution_count": 1,
   "metadata": {},
   "outputs": [],
   "source": [
    "# genderfile = open('gender_submission.csv') should be final submission set\n",
    "# testcsv = open('test.csv') testing set\n",
    "\n",
    "# traincsv = training set used to set up the prediction model\n",
    "\n",
    "import collections\n",
    "import numpy as np\n",
    "import matplotlib.pyplot as plt  \n",
    "import pandas as pd  \n",
    "from sklearn import tree\n",
    "\n",
    "testcsv = pd.read_csv(\"test.csv\")\n",
    "traincsv = pd.read_csv('train.csv')\n",
    "\n",
    "# Fill up values with NA into 0. and Male = 0 and Female = 1\n",
    "traincsv.fillna(0, inplace = True)\n",
    "traincsv = traincsv[traincsv['Age'] != 0]\n",
    "traincsv.replace(to_replace =\"male\", value = 0, inplace = True)\n",
    "traincsv.replace(to_replace =\"female\", value = 1, inplace = True)\n",
    "\n",
    "xvalue = traincsv[['Pclass', 'Sex','Age','SibSp','Parch']]\n",
    "yvalue = traincsv['Survived']\n",
    "\n",
    "testcsv.fillna(0, inplace = True)\n",
    "testcsv.replace(to_replace =\"male\", value = 0, inplace = True)\n",
    "testcsv.replace(to_replace =\"female\", value = 1, inplace = True)\n",
    "xtest = testcsv[['Pclass', 'Sex','Age','SibSp','Parch']]\n",
    "\n",
    "\n",
    "# Unable to include Cabin, not enough datas\n",
    "# traincsv[\"Cabin\"].unique()\n",
    "\n",
    "# Decision tree classification\n",
    "titanicmodel = tree.DecisionTreeClassifier(max_depth = 10 )\n",
    "titanicmodel = titanicmodel.fit(xvalue,yvalue)\n",
    "\n",
    "y_pred = titanicmodel.predict(xtest)\n",
    "\n",
    "finaldata = {'PassengerID' : testcsv.iloc[:,0],\n",
    "             'Survived' : y_pred}\n",
    "\n",
    "survivedcsv = pd.DataFrame(finaldata, columns = ['PassengerID','Survived'])\n",
    "\n",
    "survivedcsv = survivedcsv.set_index('PassengerID')\n",
    "\n",
    "survivedcsv.to_csv(r'survived.csv', index = True)\n"
   ]
  },
  {
   "cell_type": "raw",
   "metadata": {},
   "source": [
    "train_data = pd.read_csv(\"train.csv\")\n",
    "train_data\n"
   ]
  },
  {
   "cell_type": "code",
   "execution_count": null,
   "metadata": {},
   "outputs": [],
   "source": []
  }
 ],
 "metadata": {
  "kernelspec": {
   "display_name": "Python 3",
   "language": "python",
   "name": "python3"
  },
  "language_info": {
   "codemirror_mode": {
    "name": "ipython",
    "version": 3
   },
   "file_extension": ".py",
   "mimetype": "text/x-python",
   "name": "python",
   "nbconvert_exporter": "python",
   "pygments_lexer": "ipython3",
   "version": "3.8.5"
  }
 },
 "nbformat": 4,
 "nbformat_minor": 4
}
